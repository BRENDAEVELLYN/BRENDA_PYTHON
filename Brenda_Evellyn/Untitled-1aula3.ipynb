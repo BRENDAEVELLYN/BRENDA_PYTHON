{
 "cells": [
  {
   "cell_type": "markdown",
   "metadata": {},
   "source": [
    "- Declaração de variável\n",
    "- Como declaro uma variável\n",
    "- Como restringir uma variável\n",
    "- Concatenação\n",
    "-Qual a excessão usando a concatenação + (não concatena números inteiros)\n",
    "-Algoritmo\n",
    "-Sequencia lógica de instruçõies para resolver um problema específico"
   ]
  },
  {
   "cell_type": "code",
   "execution_count": null,
   "metadata": {},
   "outputs": [],
   "source": [
    "#Declaração de variável \n",
    "nome='Brenda'\n",
    "\n",
    "#Convertendo o tipo\n",
    "valor = 15\n",
    "valor = str(valor)\n",
    "\n",
    "#Restringir os dados\n",
    "idade = int(input ('Digite sua idade'))\n",
    "\n"
   ]
  },
  {
   "cell_type": "code",
   "execution_count": null,
   "metadata": {},
   "outputs": [
    {
     "name": "stdout",
     "output_type": "stream",
     "text": [
      "Usando como concatenação: 1010\n",
      "usando como soma:  20\n",
      " O resultado da soma é:  70\n",
      "Resultado da subtracao: 30\n",
      "Resultado da multiplicação: 1000\n",
      "Resultado da divisão: 2.5\n"
     ]
    }
   ],
   "source": [
    "soma = 10+10\n",
    "print('Usando como concatenação: 10'+'10')\n",
    "print('usando como soma: ',10+10)\n",
    "\n",
    "num1 = 15\n",
    "num2 = 20\n",
    "\n",
    "soma = num1 + num2\n",
    "print(' O resultado da soma é: ',soma)\n",
    "\n",
    "#subtração\n",
    "subtracao = num1-num2\n",
    "print(f'Resultado da subtracao: {subtracao}')\n",
    "\n",
    "#multiplicação\n",
    "multiplicacao = num1*num2\n",
    "print(f'Resultado da multiplicação: {multiplicacao}')\n",
    "\n",
    "#divisão\n",
    "divisao = num1/num2\n",
    "print(f'Resultado da divisão: {divisao}')\n",
    "\n"
   ]
  },
  {
   "cell_type": "markdown",
   "metadata": {},
   "source": [
    "## Atividade\n",
    "- Declare 2 variáveis, cada uma com um valor, e some os resultados concatenados a um texto.\n",
    "- Crie um sistema onde o usuário irá inserir dois valores, guarde cada valor em variáveis, em seguida realizar as 4 operações básicas de matemática(6;-;*;/) e mostrar esses resultados na tela, também concatenados a um texto indicativo de cada operação.\n",
    "- Crie um sistema que receba o nome do usuário, a idade so podendo aceitar numero inteiro, em seguida mostre o nome e idade do usuário e peça para que ele digite 2 numeros para que sejam somados.  Mostrar por último a soma realizada para o usuário."
   ]
  },
  {
   "cell_type": "code",
   "execution_count": 33,
   "metadata": {},
   "outputs": [
    {
     "name": "stdout",
     "output_type": "stream",
     "text": [
      " o resultado é:  30\n"
     ]
    }
   ],
   "source": [
    "numero1 = 10\n",
    "numero2 = 20\n",
    "soma = numero1 + numero2\n",
    "print(f' o resultado é: ',soma)\n",
    "\n"
   ]
  },
  {
   "cell_type": "code",
   "execution_count": 36,
   "metadata": {},
   "outputs": [
    {
     "name": "stdout",
     "output_type": "stream",
     "text": [
      " o resultado da soma de 30+ 70 é: 100\n",
      " o resultado da divisao de 30+ 70 é: 0.42857142857142855\n",
      " o resultado da multiplicacao de 30+ 70 é: 2100\n",
      " o resultado da divisao de 30+ 70 é: 0.42857142857142855\n"
     ]
    }
   ],
   "source": [
    "idade = int(input(\"Digite sua idade: \"))\n",
    "peso = int(input(\"Digite seu peso: \"))\n",
    "\n",
    "soma = idade + peso\n",
    "divisao = idade/peso\n",
    "multiplicacao = idade*peso\n",
    "subtracao = idade - peso\n",
    "print(f' o resultado da soma de {idade}+ {peso} é: {soma}')\n",
    "print(f' o resultado da divisao de {idade}+ {peso} é: {divisao}')\n",
    "print(f' o resultado da multiplicacao de {idade}+ {peso} é: {multiplicacao}')\n",
    "print(f' o resultado da divisao de {idade}+ {peso} é: {divisao}')\n",
    "\n"
   ]
  },
  {
   "cell_type": "code",
   "execution_count": 2,
   "metadata": {},
   "outputs": [
    {
     "name": "stdout",
     "output_type": "stream",
     "text": [
      "Seu nome é BRENDA  e tem 30 anos de idade!\n",
      " A soma dos numeros 10 + 30 é: 40\n"
     ]
    }
   ],
   "source": [
    "nome = input(\"Digite seu nome\")\n",
    "idade = int(input(\"Digite sua idade\"))\n",
    "\n",
    "print(f'Seu nome é {nome} e tem {idade} anos de idade!')\n",
    "\n",
    "numero1 = int(input(\"Digite seu primeiro numero:\"))\n",
    "numero2 = int(input(\"Digite seu segundo numero:\"))\n",
    "\n",
    "soma = numero1 + numero2 \n",
    "print(f' A soma dos numeros {numero1} + {numero2} é: {soma}')"
   ]
  },
  {
   "cell_type": "code",
   "execution_count": 3,
   "metadata": {},
   "outputs": [
    {
     "name": "stdout",
     "output_type": "stream",
     "text": [
      "Divisao inteira: 6\n",
      "Divisao normal: 6.0\n",
      "Resto: 6\n",
      "Exponenciação: 24300000\n"
     ]
    }
   ],
   "source": [
    "n1 = input('Digite o primeiro numero:')\n",
    "n2 = input('Digite o segundo numero:')\n",
    "\n",
    "n1 = int(n1)\n",
    "n2 = int(n2)\n",
    "\n",
    "divisao_inteira = n1 // n2\n",
    "divisao = n1/n2\n",
    "resto = n1 % n2\n",
    "expo = n1 ** n2\n",
    "\n",
    "print(f'Divisao inteira: {divisao_inteira}')\n",
    "print(f'Divisao normal: {divisao}')\n",
    "print(f'Resto: {divisao_inteira}')\n",
    "print(f'Exponenciação: {expo}')"
   ]
  },
  {
   "cell_type": "code",
   "execution_count": 8,
   "metadata": {},
   "outputs": [
    {
     "name": "stdout",
     "output_type": "stream",
     "text": [
      "Resultado de atribuição de subtração: 0\n",
      "Resultado de atribuição de adição: 10\n",
      "Resultado de atribuição de multiplicação: 100\n",
      "Resultado de atribuição de divisão: 10.0\n",
      "Resultado de atribuição de divisão inteira: 1.0\n",
      "Resultado de atribuição de modulo: 1.0\n"
     ]
    }
   ],
   "source": [
    "valor = 10\n",
    "valor -= 10\n",
    "\n",
    "#Atribução subtração\n",
    "print(f'Resultado de atribuição de subtração: {valor}')\n",
    "\n",
    "#Atribuição de soma\n",
    "valor +=10\n",
    "print(f'Resultado de atribuição de adição: {valor}')\n",
    "\n",
    "#Atribuição de multiplicação\n",
    "valor *=10\n",
    "print(f'Resultado de atribuição de multiplicação: {valor}')\n",
    "\n",
    "#Atribuição de divisão\n",
    "valor /=10\n",
    "print(f'Resultado de atribuição de divisão: {valor}')\n",
    "\n",
    "#Atribuição de divisão inteira\n",
    "valor //= 10\n",
    "print(f'Resultado de atribuição de divisão inteira: {valor}')\n",
    "\n",
    "#Atribuição de modulo\n",
    "valor %= 10\n",
    "print(f'Resultado de atribuição de modulo: {valor}')"
   ]
  },
  {
   "cell_type": "markdown",
   "metadata": {},
   "source": [
    "## Atividade\n",
    "\n",
    "- Crie um programa para o Boletim de notas do aluno. Guarde o nome do aluno, as notas e caucule a media final do aluno.\n",
    "- Disciplinas:\n",
    "  - Matemática\n",
    "  - Portugues\n",
    "  - Geografia\n",
    "  - Historia\n",
    "  - Fisica\n",
    "\n",
    "- Ao obter as notas e a media das notas, imprima o boletim do aluno informando as notas das materias e com quanto ele ficou de media.\n",
    "\n"
   ]
  },
  {
   "cell_type": "code",
   "execution_count": 16,
   "metadata": {},
   "outputs": [
    {
     "name": "stdout",
     "output_type": "stream",
     "text": [
      "------------------------------ BOLETIM ESCOLAR ------------------------------\n",
      "nome do aluno: Brenda Evellyn\n",
      "nota de matematica: 10.0\n",
      "nota de portugues: 8.0\n",
      "nota de geografia: 9.0\n",
      "nota de historia: 7.0\n",
      "nota de fisica: 10.0\n",
      "media das notas: 36.0\n",
      "A media geral do aluno foi: 8.80\n",
      "--------------------------------------------------------------------------------\n"
     ]
    }
   ],
   "source": [
    "print(30*\"-\", 'BOLETIM ESCOLAR', 30*\"-\")\n",
    "nome_aluno = input(\"Digite o nome do aluno: \")\n",
    "nota_matematica = input(' Digite a nota de matematica:')\n",
    "nota_matematica = float(nota_matematica)\n",
    "nota_portugues = input(' Digite a nota de portugues:')\n",
    "nota_portugues = float(nota_portugues)\n",
    "nota_geografia = input(' Digite a nota de Geografia:')\n",
    "nota_geografia = float(nota_geografia)\n",
    "nota_Historia = input(' Digite a nota de Historia:')\n",
    "nota_Historia = float(nota_Historia)\n",
    "nota_Fisica = input(' Digite a nota de Fisica:')\n",
    "nota_Fisica = float(nota_Fisica)\n",
    "\n",
    "media = (nota_matematica+nota_portugues+nota_geografia+nota_Historia+nota_Fisica)/5\n",
    "\n",
    "print(f'nome do aluno: {nome_aluno}')\n",
    "print(f'nota de matematica: {nota_matematica}')\n",
    "print(f'nota de portugues: {nota_portugues}')\n",
    "print(f'nota de geografia: {nota_geografia}')\n",
    "print(f'nota de historia: {nota_Historia}')\n",
    "print(f'nota de fisica: {nota_Fisica}')\n",
    "print(f'media das notas: {nota_matematica+nota_portugues+nota_geografia+nota_Historia+nota_Fisica/5}')\n",
    "print(f'A media geral do aluno foi: {media:.2f}')\n",
    "print(80*\"-\")\n"
   ]
  }
 ],
 "metadata": {
  "kernelspec": {
   "display_name": ".venv",
   "language": "python",
   "name": "python3"
  },
  "language_info": {
   "codemirror_mode": {
    "name": "ipython",
    "version": 3
   },
   "file_extension": ".py",
   "mimetype": "text/x-python",
   "name": "python",
   "nbconvert_exporter": "python",
   "pygments_lexer": "ipython3",
   "version": "3.12.4"
  }
 },
 "nbformat": 4,
 "nbformat_minor": 2
}
