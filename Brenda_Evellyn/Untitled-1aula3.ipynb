{
 "cells": [
  {
   "cell_type": "markdown",
   "metadata": {},
   "source": [
    "- Declaração de variável\n",
    "- Como declaro uma variável\n",
    "- Como restringir uma variável\n",
    "- Concatenação\n",
    "-Qual a excessão usando a concatenação + (não concatena números inteiros)\n",
    "-Algoritmo\n",
    "-Sequencia lógica de instruçõies para resolver um problema específico"
   ]
  },
  {
   "cell_type": "code",
   "execution_count": null,
   "metadata": {},
   "outputs": [],
   "source": [
    "#Declaração de variável \n",
    "nome='Brenda'\n",
    "\n",
    "#Convertendo o tipo\n",
    "valor = 15\n",
    "valor = str(valor)\n",
    "\n",
    "#Restringir os dados\n",
    "idade = int(input ('Digite sua idade'))\n",
    "\n"
   ]
  },
  {
   "cell_type": "code",
   "execution_count": null,
   "metadata": {},
   "outputs": [
    {
     "name": "stdout",
     "output_type": "stream",
     "text": [
      "Usando como concatenação: 1010\n",
      "usando como soma:  20\n",
      " O resultado da soma é:  70\n",
      "Resultado da subtracao: 30\n",
      "Resultado da multiplicação: 1000\n",
      "Resultado da divisão: 2.5\n"
     ]
    }
   ],
   "source": [
    "soma = 10+10\n",
    "print('Usando como concatenação: 10'+'10')\n",
    "print('usando como soma: ',10+10)\n",
    "\n",
    "num1 = 15\n",
    "num2 = 20\n",
    "\n",
    "soma = num1 + num2\n",
    "print(' O resultado da soma é: ',soma)\n",
    "\n",
    "#subtração\n",
    "subtracao = num1-num2\n",
    "print(f'Resultado da subtracao: {subtracao}')\n",
    "\n",
    "#multiplicação\n",
    "multiplicacao = num1*num2\n",
    "print(f'Resultado da multiplicação: {multiplicacao}')\n",
    "\n",
    "#divisão\n",
    "divisao = num1/num2\n",
    "print(f'Resultado da divisão: {divisao}')\n",
    "\n"
   ]
  },
  {
   "cell_type": "markdown",
   "metadata": {},
   "source": [
    "## Atividade\n",
    "- Declare 2 variáveis, cada uma com um valor, e some os resultados concatenados a um texto.\n",
    "- Crie um sistema onde o usuário irá inserir dois valores, guarde cada valor em variáveis, em seguida realizar as 4 operações básicas de matemática(6;-;*;/) e mostrar esses resultados na tela, também concatenados a um texto indicativo de cada operação.\n",
    "- Crie um sistema que receba o nome do usuário, a idade so podendo aceitar numero inteiro, em seguida mostre o nome e idade do usuário e peça para que ele digite 2 numeros para que sejam somados.  Mostrar por último a soma realizada para o usuário."
   ]
  },
  {
   "cell_type": "code",
   "execution_count": 33,
   "metadata": {},
   "outputs": [
    {
     "name": "stdout",
     "output_type": "stream",
     "text": [
      " o resultado é:  30\n"
     ]
    }
   ],
   "source": [
    "numero1 = 10\n",
    "numero2 = 20\n",
    "soma = numero1 + numero2\n",
    "print(f' o resultado é: ',soma)\n",
    "\n"
   ]
  },
  {
   "cell_type": "code",
   "execution_count": 36,
   "metadata": {},
   "outputs": [
    {
     "name": "stdout",
     "output_type": "stream",
     "text": [
      " o resultado da soma de 30+ 70 é: 100\n",
      " o resultado da divisao de 30+ 70 é: 0.42857142857142855\n",
      " o resultado da multiplicacao de 30+ 70 é: 2100\n",
      " o resultado da divisao de 30+ 70 é: 0.42857142857142855\n"
     ]
    }
   ],
   "source": [
    "idade = int(input(\"Digite sua idade: \"))\n",
    "peso = int(input(\"Digite seu peso: \"))\n",
    "\n",
    "soma = idade + peso\n",
    "divisao = idade/peso\n",
    "multiplicacao = idade*peso\n",
    "subtracao = idade - peso\n",
    "print(f' o resultado da soma de {idade}+ {peso} é: {soma}')\n",
    "print(f' o resultado da divisao de {idade}+ {peso} é: {divisao}')\n",
    "print(f' o resultado da multiplicacao de {idade}+ {peso} é: {multiplicacao}')\n",
    "print(f' o resultado da divisao de {idade}+ {peso} é: {divisao}')\n",
    "\n"
   ]
  },
  {
   "cell_type": "code",
   "execution_count": 2,
   "metadata": {},
   "outputs": [
    {
     "name": "stdout",
     "output_type": "stream",
     "text": [
      "Seu nome é BRENDA  e tem 30 anos de idade!\n",
      " A soma dos numeros 10 + 30 é: 40\n"
     ]
    }
   ],
   "source": [
    "nome = input(\"Digite seu nome\")\n",
    "idade = int(input(\"Digite sua idade\"))\n",
    "\n",
    "print(f'Seu nome é {nome} e tem {idade} anos de idade!')\n",
    "\n",
    "numero1 = int(input(\"Digite seu primeiro numero:\"))\n",
    "numero2 = int(input(\"Digite seu segundo numero:\"))\n",
    "\n",
    "soma = numero1 + numero2 \n",
    "print(f' A soma dos numeros {numero1} + {numero2} é: {soma}')"
   ]
  },
  {
   "cell_type": "code",
   "execution_count": 3,
   "metadata": {},
   "outputs": [
    {
     "name": "stdout",
     "output_type": "stream",
     "text": [
      "Divisao inteira: 6\n",
      "Divisao normal: 6.0\n",
      "Resto: 6\n",
      "Exponenciação: 24300000\n"
     ]
    }
   ],
   "source": [
    "n1 = input('Digite o primeiro numero:')\n",
    "n2 = input('Digite o segundo numero:')\n",
    "\n",
    "n1 = int(n1)\n",
    "n2 = int(n2)\n",
    "\n",
    "divisao_inteira = n1 // n2\n",
    "divisao = n1/n2\n",
    "resto = n1 % n2\n",
    "expo = n1 ** n2\n",
    "\n",
    "print(f'Divisao inteira: {divisao_inteira}')\n",
    "print(f'Divisao normal: {divisao}')\n",
    "print(f'Resto: {divisao_inteira}')\n",
    "print(f'Exponenciação: {expo}')"
   ]
  },
  {
   "cell_type": "code",
   "execution_count": 8,
   "metadata": {},
   "outputs": [
    {
     "name": "stdout",
     "output_type": "stream",
     "text": [
      "Resultado de atribuição de subtração: 0\n",
      "Resultado de atribuição de adição: 10\n",
      "Resultado de atribuição de multiplicação: 100\n",
      "Resultado de atribuição de divisão: 10.0\n",
      "Resultado de atribuição de divisão inteira: 1.0\n",
      "Resultado de atribuição de modulo: 1.0\n"
     ]
    }
   ],
   "source": [
    "valor = 10\n",
    "valor -= 10\n",
    "\n",
    "#Atribução subtração\n",
    "print(f'Resultado de atribuição de subtração: {valor}')\n",
    "\n",
    "#Atribuição de soma\n",
    "valor +=10\n",
    "print(f'Resultado de atribuição de adição: {valor}')\n",
    "\n",
    "#Atribuição de multiplicação\n",
    "valor *=10\n",
    "print(f'Resultado de atribuição de multiplicação: {valor}')\n",
    "\n",
    "#Atribuição de divisão\n",
    "valor /=10\n",
    "print(f'Resultado de atribuição de divisão: {valor}')\n",
    "\n",
    "#Atribuição de divisão inteira\n",
    "valor //= 10\n",
    "print(f'Resultado de atribuição de divisão inteira: {valor}')\n",
    "\n",
    "#Atribuição de modulo\n",
    "valor %= 10\n",
    "print(f'Resultado de atribuição de modulo: {valor}')"
   ]
  },
  {
   "cell_type": "markdown",
   "metadata": {},
   "source": [
    "## Atividade\n",
    "\n",
    "- Crie um programa para o Boletim de notas do aluno. Guarde o nome do aluno, as notas e caucule a media final do aluno.\n",
    "- Disciplinas:\n",
    "  - Matemática\n",
    "  - Portugues\n",
    "  - Geografia\n",
    "  - Historia\n",
    "  - Fisica\n",
    "\n",
    "- Ao obter as notas e a media das notas, imprima o boletim do aluno informando as notas das materias e com quanto ele ficou de media.\n",
    "\n"
   ]
  },
  {
   "cell_type": "code",
   "execution_count": 16,
   "metadata": {},
   "outputs": [
    {
     "name": "stdout",
     "output_type": "stream",
     "text": [
      "------------------------------ BOLETIM ESCOLAR ------------------------------\n",
      "nome do aluno: Brenda Evellyn\n",
      "nota de matematica: 10.0\n",
      "nota de portugues: 8.0\n",
      "nota de geografia: 9.0\n",
      "nota de historia: 7.0\n",
      "nota de fisica: 10.0\n",
      "media das notas: 36.0\n",
      "A media geral do aluno foi: 8.80\n",
      "--------------------------------------------------------------------------------\n"
     ]
    }
   ],
   "source": [
    "print(30*\"-\", 'BOLETIM ESCOLAR', 30*\"-\")\n",
    "nome_aluno = input(\"Digite o nome do aluno: \")\n",
    "nota_matematica = input(' Digite a nota de matematica:')\n",
    "nota_matematica = float(nota_matematica)\n",
    "nota_portugues = input(' Digite a nota de portugues:')\n",
    "nota_portugues = float(nota_portugues)\n",
    "nota_geografia = input(' Digite a nota de Geografia:')\n",
    "nota_geografia = float(nota_geografia)\n",
    "nota_Historia = input(' Digite a nota de Historia:')\n",
    "nota_Historia = float(nota_Historia)\n",
    "nota_Fisica = input(' Digite a nota de Fisica:')\n",
    "nota_Fisica = float(nota_Fisica)\n",
    "\n",
    "media = (nota_matematica+nota_portugues+nota_geografia+nota_Historia+nota_Fisica)/5\n",
    "\n",
    "print(f'nome do aluno: {nome_aluno}')\n",
    "print(f'nota de matematica: {nota_matematica}')\n",
    "print(f'nota de portugues: {nota_portugues}')\n",
    "print(f'nota de geografia: {nota_geografia}')\n",
    "print(f'nota de historia: {nota_Historia}')\n",
    "print(f'nota de fisica: {nota_Fisica}')\n",
    "print(f'media das notas: {nota_matematica+nota_portugues+nota_geografia+nota_Historia+nota_Fisica/5}')\n",
    "print(f'A media geral do aluno foi: {media:.2f}')\n",
    "print(80*\"-\")\n"
   ]
  },
  {
   "cell_type": "markdown",
   "metadata": {},
   "source": [
    "#### if e else\n"
   ]
  },
  {
   "cell_type": "code",
   "execution_count": 9,
   "metadata": {},
   "outputs": [
    {
     "name": "stdout",
     "output_type": "stream",
     "text": [
      "if falso\n",
      "finalizou o codigo\n"
     ]
    }
   ],
   "source": [
    "programador = False\n",
    "\n",
    "if programador:\n",
    "    print('if é verdadeiro')\n",
    "\n",
    "else:\n",
    "    print('if falso')\n",
    "\n",
    "print('finalizou o codigo')"
   ]
  },
  {
   "cell_type": "code",
   "execution_count": 14,
   "metadata": {},
   "outputs": [
    {
     "name": "stdout",
     "output_type": "stream",
     "text": [
      "É maior de idade!\n",
      "Pode brincar na montanha russa!\n"
     ]
    }
   ],
   "source": [
    "idade = 25\n",
    "    # and\n",
    "    # or\n",
    "if idade >= 18:\n",
    "    print('É maior de idade!')\n",
    "\n",
    "else:\n",
    "    print('Menor de idade!')\n",
    "\n",
    "idade = 18\n",
    "altura = 1.75\n",
    "    # and\n",
    "    # or\n",
    "if idade >= 18 and altura > 1.60:\n",
    "    print('Pode brincar na montanha russa!')\n",
    "\n",
    "else:\n",
    "    print('Não pode brincar!')"
   ]
  },
  {
   "cell_type": "code",
   "execution_count": 23,
   "metadata": {},
   "outputs": [
    {
     "name": "stdout",
     "output_type": "stream",
     "text": [
      "---------- VERIFICA SE É PAR OU IMPAR ----------\n",
      " O numero 28 é par!\n"
     ]
    }
   ],
   "source": [
    "print(10*\"-\", \"VERIFICA SE É PAR OU IMPAR\", 10*\"-\")\n",
    "numero = int(input(' Digite um numero'))\n",
    "\n",
    "# verifica se o resto da divisao do numero por 2 é igual a 0\n",
    "if numero % 2 == 0:\n",
    "    print(f\" O numero {numero} é par!\")\n",
    "\n",
    "else:\n",
    "    print(f'o numero {numero} é impar!')  "
   ]
  },
  {
   "cell_type": "markdown",
   "metadata": {},
   "source": [
    "## DESAFIO 2\n",
    "- um elevador de carga possui capacidade para 200kg.\n",
    "- Crie um programa que receba do usuário o peso da carga, ou seu peso e verifica se a carga esta autorizada a usar o elevador ou não."
   ]
  },
  {
   "cell_type": "code",
   "execution_count": 26,
   "metadata": {},
   "outputs": [
    {
     "name": "stdout",
     "output_type": "stream",
     "text": [
      "O elevador suporta esse peso, acesso liberado!\n"
     ]
    }
   ],
   "source": [
    "peso = int(input('Digite o peso que irá entrar no elevador'))\n",
    "\n",
    "if peso <= 200:\n",
    "    print(f'O elevador suporta esse peso, acesso liberado!')\n",
    "\n",
    "else:\n",
    "    print(f'O elevador não suporta esse peso, acesso negado!')\n"
   ]
  },
  {
   "cell_type": "code",
   "execution_count": 31,
   "metadata": {},
   "outputs": [
    {
     "name": "stdout",
     "output_type": "stream",
     "text": [
      "O elevador não suporta esse peso de 201 kg, acesso negado!\n"
     ]
    }
   ],
   "source": [
    "peso_carga = int(input('Digite o peso da carga'))\n",
    "peso_pessoa = int(input('Digite seu peso'))\n",
    "peso_total = (peso_carga + peso_pessoa)\n",
    "\n",
    "if peso_total <= 200:\n",
    "    print(f'O elevador suporta esse peso de {peso_total} kg, acesso liberado!')\n",
    "\n",
    "else:\n",
    "    print(f'O elevador não suporta esse peso de {peso_total} kg, acesso negado!')\n"
   ]
  },
  {
   "cell_type": "code",
   "execution_count": 33,
   "metadata": {},
   "outputs": [
    {
     "name": "stdout",
     "output_type": "stream",
     "text": [
      "Pode usar o elevador!\n"
     ]
    }
   ],
   "source": [
    "usuario = input(\"Digite seu peso:\")\n",
    "carga = input(\"Digite o peso da carga: \")\n",
    "\n",
    "usuario = int(usuario)\n",
    "carga = int(carga)\n",
    "\n",
    "peso_total = usuario + carga\n",
    "capacidade = 200\n",
    "\n",
    "if peso_total <= capacidade:\n",
    "    print(\"Pode usar o elevador!\")\n",
    "\n",
    "else:\n",
    "    print(\"Não pode usar o elevador\")"
   ]
  },
  {
   "cell_type": "markdown",
   "metadata": {},
   "source": [
    "## Resolução do professor"
   ]
  },
  {
   "cell_type": "code",
   "execution_count": 32,
   "metadata": {},
   "outputs": [
    {
     "name": "stdout",
     "output_type": "stream",
     "text": [
      "O elevador suporta esse peso de 201 kg, acesso liberado!\n"
     ]
    }
   ],
   "source": [
    "peso_carga = int(input('Digite o peso da carga'))\n",
    "peso_pessoa = int(input('Digite seu peso'))\n",
    "\n",
    "\n",
    "if peso_carga + peso_pessoa <= 200:\n",
    "    print(f'O elevador suporta esse peso de {peso_total} kg, acesso liberado!')\n",
    "\n",
    "else:\n",
    "    print(f'O elevador não suporta esse peso de {peso_total} kg, acesso negado!')\n"
   ]
  },
  {
   "cell_type": "code",
   "execution_count": 43,
   "metadata": {},
   "outputs": [
    {
     "name": "stdout",
     "output_type": "stream",
     "text": [
      "O Beltrano Está reprovado!\n"
     ]
    }
   ],
   "source": [
    "nome = 'Beltrano'\n",
    "nota = 4\n",
    "\n",
    "if nota >= 7:\n",
    "    print(f\"O {nome} Foi aprovado!\")\n",
    "elif nota >=5:\n",
    "    print(f' {nome} Está de Recuperação!')\n",
    "\n",
    "else:\n",
    "     print(f'O {nome} Está reprovado!')"
   ]
  },
  {
   "cell_type": "code",
   "execution_count": 47,
   "metadata": {},
   "outputs": [
    {
     "name": "stdout",
     "output_type": "stream",
     "text": [
      " brenda Está de Recuperação!\n"
     ]
    }
   ],
   "source": [
    "nome = input(\"Digite o nome do aluno:\")\n",
    "nota = input(\"Digite a nota do aluno: \")\n",
    "nota = int(nota)\n",
    "\n",
    "if nota > 7:\n",
    "    print(f\"O {nome} Foi aprovado!\")\n",
    "elif nota >=5:\n",
    "    print(f' {nome} Está de Recuperação!')\n",
    "\n",
    "else:\n",
    "     print(f'O {nome} Está reprovado!')"
   ]
  },
  {
   "cell_type": "markdown",
   "metadata": {},
   "source": [
    "## Desafio 3\n",
    "- Crie um sistema para coletar os dados do aluno, (nome, idade, cpf), em seguida solicite as notas dos 4 bimestres da diciplina de Python que o aluno teve para verificar a MEDIA.\n",
    "    - Media para aprovação >= 7\n",
    "    - Media para recuperação >= 5\n",
    "    - Media para reprovação = <5\n",
    "- Para retirar o boletim de notas, o aluno precisa ser maior de idade(18) e caso não seja, somente os pais podem retirar o boletim.\n",
    "    - Imprima as informações do aluno\n",
    "    - Imprima as notas do aluno em cada bimestre\n",
    "    - Imprima a situação do aluno (aprovado, reprovado, recuperação)\n",
    "    - Imprima se o boletim sera retirado pelos pais ou pelo proprio aluno"
   ]
  },
  {
   "cell_type": "code",
   "execution_count": 76,
   "metadata": {},
   "outputs": [
    {
     "name": "stdout",
     "output_type": "stream",
     "text": [
      "------------------------------ BOLETIM ESCOLAR ------------------------------\n",
      "Brenda \n",
      "O nome do aluno é: Brenda \n",
      "A idade do aluno é: 30 anos\n",
      "O CPF do aluno é: 040896241-00\n",
      "O Brenda  Foi aprovado!\n",
      "Pode retirar o boletim\n",
      " as notas são:(7, 7, 8, 9)\n"
     ]
    }
   ],
   "source": [
    "print(30*\"-\", 'BOLETIM ESCOLAR', 30*\"-\")\n",
    "nome = input(\"Digite o o nome do aluno\")\n",
    "print(nome)\n",
    "print(f'O nome do aluno é: {nome}')\n",
    "idade = input(\"Digite a idade do aluno\")\n",
    "idade=int(idade)\n",
    "print(f'A idade do aluno é: {idade} anos')\n",
    "cpf = input(\"Digite o CPF do aluno\")\n",
    "print(f'O CPF do aluno é: {cpf}')\n",
    "primeiro_bimestre = input(\"Digite a nota do primeiro bimestre\")\n",
    "primeiro_bimestre = int(primeiro_bimestre)\n",
    "segundo_bimestre = input(\"Digite a nota do segundo bimestre\")\n",
    "segundo_bimestre = int(segundo_bimestre)\n",
    "terceiro_bimestre = input(\"Digite a nota do terceiro bimestre\")\n",
    "terceiro_bimestre = int(terceiro_bimestre)\n",
    "quarto_bimestre = input(\"Digite a nota do quarto bimestre\")\n",
    "quarto_bimestre = int(quarto_bimestre)\n",
    "media_notas= int(primeiro_bimestre+segundo_bimestre+terceiro_bimestre+quarto_bimestre) /4\n",
    "\n",
    "if media_notas > 7:\n",
    "    print(f\"O {nome} Foi aprovado!\")\n",
    "\n",
    "elif media_notas >=5:\n",
    "    print(f' {nome} Está de Recuperação!')\n",
    "\n",
    "else:\n",
    "     print(f'O {nome} Está reprovado!')\n",
    "\n",
    "if idade >= 18:\n",
    "\n",
    "    print(f'Pode retirar o boletim')\n",
    "    print(f' as notas são:{primeiro_bimestre,segundo_bimestre,terceiro_bimestre,quarto_bimestre}')\n",
    "else:\n",
    "    print(\"Não pode retirar o boletim, somente com os pais\")\n",
    "\n"
   ]
  },
  {
   "cell_type": "code",
   "execution_count": 87,
   "metadata": {},
   "outputs": [
    {
     "name": "stdout",
     "output_type": "stream",
     "text": [
      "------------------------------ BOLETIM ESCOLAR ------------------------------\n",
      "------------------------------ Curso Python ------------------------------\n",
      "O nome do aluno é: Brend aEvellyn\n",
      "A idade do aluno é: 18 anos\n",
      "O CPF do aluno é: 0408962522\n",
      "O aluno Brend aEvellyn Foi aprovado, parabéns!\n",
      " As notas são: Primeiro bimestre: 7, Segundo bimestre: 7,Terceiro bimestre: 8,Quarto bimestre: 9\n",
      "Pode retirar o boletim!\n",
      "--------------------------------------------------------------------------------\n"
     ]
    }
   ],
   "source": [
    "print(30*\"-\", 'BOLETIM ESCOLAR', 30*\"-\")\n",
    "print(30*\"-\",'Curso Python', 30*'-')\n",
    "nome = input(\"Digite o o nome do aluno\")\n",
    "print(f'O nome do aluno é: {nome}')\n",
    "idade = input(\"Digite a idade do aluno\")\n",
    "idade=int(idade)\n",
    "print(f'A idade do aluno é: {idade} anos')\n",
    "cpf = input(\"Digite o CPF do aluno\")\n",
    "print(f'O CPF do aluno é: {cpf}')\n",
    "primeiro_bimestre = input(\"Digite a nota do primeiro bimestre\")\n",
    "primeiro_bimestre = int(primeiro_bimestre)\n",
    "segundo_bimestre = input(\"Digite a nota do segundo bimestre\")\n",
    "segundo_bimestre = int(segundo_bimestre)\n",
    "terceiro_bimestre = input(\"Digite a nota do terceiro bimestre\")\n",
    "terceiro_bimestre = int(terceiro_bimestre)\n",
    "quarto_bimestre = input(\"Digite a nota do quarto bimestre\")\n",
    "quarto_bimestre = int(quarto_bimestre)\n",
    "media_notas= int(primeiro_bimestre+segundo_bimestre+terceiro_bimestre+quarto_bimestre) /4\n",
    "\n",
    "if media_notas >= 7:\n",
    "    print(f\"O aluno {nome} Foi aprovado, parabéns!\")\n",
    "\n",
    "elif media_notas >=5:\n",
    "    print(f'O aluno {nome} Está de Recuperação!')\n",
    "\n",
    "else:\n",
    "     print(f'O aluno {nome} Está reprovado!')\n",
    "\n",
    "if idade >= 18:\n",
    "    print(f' As notas são: Primeiro bimestre: {primeiro_bimestre}, Segundo bimestre: {segundo_bimestre},Terceiro bimestre: {terceiro_bimestre},Quarto bimestre: {quarto_bimestre}')\n",
    "    print(f'Pode retirar o boletim!')\n",
    "    \n",
    "else:\n",
    "    print(\"Não pode retirar o boletim, somente com os pais!\")\n",
    "\n",
    "print(80*\"-\")"
   ]
  },
  {
   "cell_type": "code",
   "execution_count": null,
   "metadata": {},
   "outputs": [],
   "source": []
  }
 ],
 "metadata": {
  "kernelspec": {
   "display_name": ".venv",
   "language": "python",
   "name": "python3"
  },
  "language_info": {
   "codemirror_mode": {
    "name": "ipython",
    "version": 3
   },
   "file_extension": ".py",
   "mimetype": "text/x-python",
   "name": "python",
   "nbconvert_exporter": "python",
   "pygments_lexer": "ipython3",
   "version": "3.12.4"
  }
 },
 "nbformat": 4,
 "nbformat_minor": 2
}
