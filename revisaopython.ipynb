{
 "cells": [
  {
   "cell_type": "markdown",
   "metadata": {},
   "source": [
    "Lista"
   ]
  },
  {
   "cell_type": "code",
   "execution_count": 1,
   "metadata": {},
   "outputs": [
    {
     "data": {
      "text/plain": [
       "list"
      ]
     },
     "execution_count": 1,
     "metadata": {},
     "output_type": "execute_result"
    }
   ],
   "source": [
    "\n",
    "#residencial, comercial, fazenda\n",
    "\n",
    "#colchetes\n",
    "\n",
    "tipos_imoveis = [\"residencial\",\"comercial\",\"fazenda\"]\n",
    "type(tipos_imoveis)\n",
    "\n",
    "\n"
   ]
  },
  {
   "cell_type": "markdown",
   "metadata": {},
   "source": [
    "A lista muda, mas a tupla não."
   ]
  },
  {
   "cell_type": "markdown",
   "metadata": {},
   "source": [
    "Conjunto\n",
    "{itens}"
   ]
  },
  {
   "cell_type": "code",
   "execution_count": 6,
   "metadata": {},
   "outputs": [
    {
     "data": {
      "text/plain": [
       "set"
      ]
     },
     "execution_count": 6,
     "metadata": {},
     "output_type": "execute_result"
    }
   ],
   "source": [
    "tipos_imoveis = {\"residencial\",\"comercial\",\"fazenda\",\"residencial\"}\n",
    "tipos_imoveis\n",
    "type(tipos_imoveis)"
   ]
  },
  {
   "cell_type": "markdown",
   "metadata": {},
   "source": [
    "List(lista) - [] mutável\n",
    "Tuple(tupla) - () imutável\n",
    "set(conjuntos) - {} não repetir\n"
   ]
  },
  {
   "cell_type": "markdown",
   "metadata": {},
   "source": [
    "- crie uma lista de viótia do seu time\n",
    "- crie uma tupla de fast food\n",
    "- crie um conjunto de itens de compras do supermercado\n"
   ]
  },
  {
   "cell_type": "code",
   "execution_count": 25,
   "metadata": {},
   "outputs": [
    {
     "data": {
      "text/plain": [
       "['1958', '1962', '1970', '1994', '2002']"
      ]
     },
     "execution_count": 25,
     "metadata": {},
     "output_type": "execute_result"
    }
   ],
   "source": [
    "vitorias_brasil = [\"1958\",\"1962\",\"1970\",\"1994\", \"2002\"]\n",
    "vitorias_brasil\n"
   ]
  },
  {
   "cell_type": "code",
   "execution_count": 14,
   "metadata": {},
   "outputs": [
    {
     "data": {
      "text/plain": [
       "('bigmac', 'mclanchefeliz', 'mcfish', 'mctasty')"
      ]
     },
     "execution_count": 14,
     "metadata": {},
     "output_type": "execute_result"
    }
   ],
   "source": [
    "fastfood = (\"bigmac\",\"mclanchefeliz\",\"mcfish\",\"mctasty\")\n",
    "fastfood"
   ]
  },
  {
   "cell_type": "code",
   "execution_count": 15,
   "metadata": {},
   "outputs": [
    {
     "data": {
      "text/plain": [
       "{'arroz', 'feijão', 'leite', 'macarrao', 'oleo'}"
      ]
     },
     "execution_count": 15,
     "metadata": {},
     "output_type": "execute_result"
    }
   ],
   "source": [
    "lista_compras = {\"arroz\",\"feijão\",\"macarrao\",\"leite\",\"oleo\"}\n",
    "lista_compras"
   ]
  },
  {
   "cell_type": "markdown",
   "metadata": {},
   "source": [
    "#### Dicionário"
   ]
  },
  {
   "cell_type": "code",
   "execution_count": 19,
   "metadata": {},
   "outputs": [
    {
     "name": "stdout",
     "output_type": "stream",
     "text": [
      "3\n"
     ]
    }
   ],
   "source": [
    "apartamentos = {\n",
    "    \"taguatinga\": 3,\n",
    "    \"brazlandia\": 5,\n",
    "    \"ceilandia\": 2\n",
    "}\n",
    "print(apartamentos[\"taguatinga\"])"
   ]
  },
  {
   "cell_type": "code",
   "execution_count": 20,
   "metadata": {},
   "outputs": [],
   "source": [
    "#adicionando um novo apartamento\n",
    "apartamentos[\"candangolandia\"]=4"
   ]
  },
  {
   "cell_type": "code",
   "execution_count": 28,
   "metadata": {},
   "outputs": [
    {
     "name": "stdout",
     "output_type": "stream",
     "text": [
      "Apartamento: taguatinga, Quantidade: 3\n",
      "Apartamento: brazlandia, Quantidade: 5\n",
      "Apartamento: ceilandia, Quantidade: 2\n",
      "Apartamento: candangolandia, Quantidade: 4\n"
     ]
    }
   ],
   "source": [
    "#Iterando sobre as chaves e valores\n",
    "\n",
    "for apartamento, quantidade in apartamentos.items():\n",
    "    # Adicione aqui o que você deseja fazer com `apartamento` e `quantidade`\n",
    "    print(f\"Apartamento: {apartamento}, Quantidade: {quantidade}\")\n"
   ]
  },
  {
   "cell_type": "code",
   "execution_count": 29,
   "metadata": {},
   "outputs": [
    {
     "name": "stdout",
     "output_type": "stream",
     "text": [
      "10\n"
     ]
    }
   ],
   "source": [
    "quinta_estudo ={\n",
    "\"Média\":5,\n",
    "\"Mediana\":10,\n",
    "\"Moda\":10,\n",
    "\"Desvio Padrão\":40,\n",
    "\"Quartis\":60\n",
    "}\n",
    "print(quinta_estudo[\"Mediana\"])"
   ]
  },
  {
   "cell_type": "code",
   "execution_count": 36,
   "metadata": {},
   "outputs": [
    {
     "name": "stdout",
     "output_type": "stream",
     "text": [
      "Atividade: Média, Quantidade de tempo: 5 horas\n",
      "Atividade: Mediana, Quantidade de tempo: 10 horas\n",
      "Atividade: Moda, Quantidade de tempo: 10 horas\n",
      "Atividade: Desvio Padrão, Quantidade de tempo: 40 horas\n",
      "Atividade: Quartis, Quantidade de tempo: 60 horas\n"
     ]
    }
   ],
   "source": [
    "quinta_estudo ={\n",
    "\"Média\":5,\n",
    "\"Mediana\":10,\n",
    "\"Moda\":10,\n",
    "\"Desvio Padrão\":40,\n",
    "\"Quartis\":60\n",
    "}\n",
    "\n",
    "for atividade, quantidade in quinta_estudo.items():\n",
    "    print(f\"Atividade: {atividade}, Quantidade de tempo: {quantidade} horas\")\n"
   ]
  }
 ],
 "metadata": {
  "kernelspec": {
   "display_name": "Python 3",
   "language": "python",
   "name": "python3"
  },
  "language_info": {
   "codemirror_mode": {
    "name": "ipython",
    "version": 3
   },
   "file_extension": ".py",
   "mimetype": "text/x-python",
   "name": "python",
   "nbconvert_exporter": "python",
   "pygments_lexer": "ipython3",
   "version": "3.12.4"
  }
 },
 "nbformat": 4,
 "nbformat_minor": 2
}
